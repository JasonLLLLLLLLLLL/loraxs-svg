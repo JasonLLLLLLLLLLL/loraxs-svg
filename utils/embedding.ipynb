{
 "cells": [
  {
   "cell_type": "code",
   "execution_count": 1,
   "metadata": {},
   "outputs": [],
   "source": [
    "import cairosvg \n",
    "from PIL import Image, ImageDraw\n",
    "import numpy as np\n",
    "import io\n",
    "\n",
    "# SVG文本\n",
    "svg_text = \"\"\"\n",
    "<svg viewBox=\"0 0 1024 1024\">\n",
    "<!-- a pair of blue headphones -->\n",
    "<path d=\"M215.59 661.851V389.35c0-153.392 157.242-267.997 297.763-267.997 140.597 0 297.765 114.604 297.765 267.997v272.501h37.22V389.35c0-162.588-156.515-305.218-334.985-305.218-178.431 0-334.986 142.63-334.986 305.218v272.501h37.223z\" fill=\"#152B3C\" />\n",
    "<path d=\"M811.118 642.103V921.258c0 10.287 8.36 18.61 18.61 18.61H941.39a18.574 18.574 0 0 0 18.61-18.61V660.713c0-10.25-8.285-18.61-18.61-18.61H811.118zM82.61 642.103c-10.325 0-18.61 8.36-18.61 18.61v260.545c0 10.287 8.285 18.61 18.61 18.61h111.662c10.25 0 18.61-8.322 18.61-18.61V642.103H82.61z\" fill=\"#2577FF\" />\n",
    "<path d=\"M941.39 642.103h-46.358v246.67a18.571 18.571 0 0 1-18.61 18.608h-65.305v13.874c0 10.291 8.36 18.608 18.61 18.608H941.39A18.572 18.572 0 0 0 960 921.255V660.712c0-10.246-8.287-18.609-18.61-18.609zM147.915 642.103V888.773c0 10.289-8.36 18.608-18.61 18.608H64v13.874a18.57 18.57 0 0 0 18.61 18.608h111.662c10.25 0 18.61-8.318 18.61-18.608V642.104h-64.967z\" fill=\"#070707\" />\n",
    "</svg>\n",
    "\"\"\"\n",
    "# Convert SVG to PNG\n",
    "png_data = cairosvg.svg2png(bytestring=svg_text)\n",
    "\n",
    "# Create an image from the PNG data\n",
    "image = Image.open(io.BytesIO(png_data))\n",
    "\n",
    "# Create a new image with a light gray background\n",
    "background = Image.new('RGB', image.size, (240, 240, 240))  # Light gray color\n",
    "background.paste(image, (0, 0), image)\n",
    "\n",
    "# Save the final image as JPG\n",
    "background.save('output_image.jpg', 'JPEG')"
   ]
  },
  {
   "cell_type": "code",
   "execution_count": null,
   "metadata": {},
   "outputs": [],
   "source": []
  }
 ],
 "metadata": {
  "kernelspec": {
   "display_name": "loraxs",
   "language": "python",
   "name": "python3"
  },
  "language_info": {
   "codemirror_mode": {
    "name": "ipython",
    "version": 3
   },
   "file_extension": ".py",
   "mimetype": "text/x-python",
   "name": "python",
   "nbconvert_exporter": "python",
   "pygments_lexer": "ipython3",
   "version": "3.10.15"
  }
 },
 "nbformat": 4,
 "nbformat_minor": 2
}
